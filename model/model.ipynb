{
 "cells": [
  {
   "cell_type": "code",
   "execution_count": 1,
   "metadata": {},
   "outputs": [],
   "source": [
    "import numpy as np\n",
    "import pandas as pd\n",
    "import seaborn as sns\n",
    "import matplotlib.pyplot as plt\n",
    "%matplotlib inline \n",
    "import warnings"
   ]
  },
  {
   "cell_type": "code",
   "execution_count": 2,
   "metadata": {
    "scrolled": true
   },
   "outputs": [],
   "source": [
    "data = pd.read_csv('dataset.csv')"
   ]
  },
  {
   "cell_type": "markdown",
   "metadata": {},
   "source": [
    "#### Imputing missing values"
   ]
  },
  {
   "cell_type": "code",
   "execution_count": 3,
   "metadata": {},
   "outputs": [],
   "source": [
    "cat_list = ['location_region', 'location_state','customer_value','gender','device_type','device_manufacturer']\n",
    "for a in cat_list:\n",
    "    data[a].fillna('unspecified',inplace=True)\n",
    "    \n",
    "    \n",
    "num_list = ['spend_total', 'spend_vas', 'spend_voice', 'spend_data','xtra_data_talk_rev', 'customer_class','age']\n",
    "for b in num_list:\n",
    "    data[b].fillna(data[b].median(), inplace=True)\n",
    "\n",
    "data['sms_cost'].fillna(value=0, inplace=True)\n",
    "data['event_type'].fillna(data['event_type'].mode()[0], inplace=True)"
   ]
  },
  {
   "cell_type": "markdown",
   "metadata": {},
   "source": [
    "### Outliers"
   ]
  },
  {
   "cell_type": "markdown",
   "metadata": {},
   "source": [
    "#### Categorical variables"
   ]
  },
  {
   "cell_type": "code",
   "execution_count": 4,
   "metadata": {},
   "outputs": [],
   "source": [
    "for j in data['device_manufacturer']:\n",
    "    if j == 'tecno':\n",
    "        j = j\n",
    "    elif j == 'itel':\n",
    "        j= j\n",
    "    elif j == 'infinix':\n",
    "        j= j\n",
    "    elif j == 'samsung':\n",
    "        j= j\n",
    "    elif j == 'nokia':\n",
    "        j= j\n",
    "    elif j == 'apple':\n",
    "        j= j\n",
    "    else:\n",
    "        data['device_manufacturer'].replace(j,'others',inplace=True)"
   ]
  },
  {
   "cell_type": "code",
   "execution_count": 5,
   "metadata": {},
   "outputs": [],
   "source": [
    "for k in data['event_type']:\n",
    "    if k == 'Click':\n",
    "        data['event_type'].replace(k,1,inplace=True)\n",
    "    else:\n",
    "        data['event_type'].replace(k,0,inplace=True)"
   ]
  },
  {
   "cell_type": "markdown",
   "metadata": {},
   "source": [
    "#### Ordinal Variable \n",
    "There is a clear ordering in the Customer_value variable"
   ]
  },
  {
   "cell_type": "code",
   "execution_count": 6,
   "metadata": {},
   "outputs": [],
   "source": [
    "for l in data['customer_value']:\n",
    "    if l == 'low' :\n",
    "        data['customer_value'].replace(l,1,inplace=True)\n",
    "    elif l == 'medium':\n",
    "        data['customer_value'].replace(l,2,inplace=True)\n",
    "    elif l == 'high' :\n",
    "        data['customer_value'].replace(l,3,inplace=True)\n",
    "    elif l == 'very high' :\n",
    "        data['customer_value'].replace(l,4,inplace=True)\n",
    "    elif l == 'top' :\n",
    "        data['customer_value'].replace(l,5,inplace=True)\n",
    "    else:\n",
    "        data['customer_value'].replace(l,0,inplace=True)"
   ]
  },
  {
   "cell_type": "code",
   "execution_count": 8,
   "metadata": {},
   "outputs": [],
   "source": [
    "data = pd.get_dummies(data, columns=cat_list, dummy_na=True)"
   ]
  },
  {
   "cell_type": "code",
   "execution_count": 9,
   "metadata": {},
   "outputs": [],
   "source": [
    "list = ['msisdn', 'location_lga','location_city', 'os_name','os_version',\n",
    "       'ad_id', 'ad_name', '@timestamp', 'event_type']\n",
    "y = data.loc[:,'event_type']\n",
    "X = data.drop(list,axis = 1)"
   ]
  },
  {
   "cell_type": "code",
   "execution_count": 13,
   "metadata": {},
   "outputs": [
    {
     "data": {
      "text/plain": [
       "Index(['spend_total', 'spend_vas', 'spend_voice', 'spend_data', 'sms_cost',\n",
       "       'xtra_data_talk_rev', 'customer_class', 'age',\n",
       "       'location_region_North Central', 'location_region_North East',\n",
       "       'location_region_North West', 'location_region_South East',\n",
       "       'location_region_South South', 'location_region_South West',\n",
       "       'location_region_unspecified', 'location_region_nan',\n",
       "       'location_state_abia', 'location_state_adamawa',\n",
       "       'location_state_akwa ibom', 'location_state_anambra',\n",
       "       'location_state_bauchi', 'location_state_bayelsa',\n",
       "       'location_state_benue', 'location_state_borno',\n",
       "       'location_state_cross river', 'location_state_delta',\n",
       "       'location_state_ebonyi', 'location_state_edo', 'location_state_ekiti',\n",
       "       'location_state_enugu', 'location_state_fct', 'location_state_gombe',\n",
       "       'location_state_imo', 'location_state_jigawa', 'location_state_kaduna',\n",
       "       'location_state_kano', 'location_state_katsina', 'location_state_kebbi',\n",
       "       'location_state_kogi', 'location_state_kwara', 'location_state_lagos',\n",
       "       'location_state_nassarawa', 'location_state_niger',\n",
       "       'location_state_ogun', 'location_state_ondo', 'location_state_osun',\n",
       "       'location_state_oyo', 'location_state_plateau', 'location_state_rivers',\n",
       "       'location_state_sokoto', 'location_state_taraba',\n",
       "       'location_state_unspecified', 'location_state_yobe',\n",
       "       'location_state_zamfara', 'location_state_nan', 'customer_value_0.0',\n",
       "       'customer_value_1.0', 'customer_value_2.0', 'customer_value_3.0',\n",
       "       'customer_value_4.0', 'customer_value_5.0', 'customer_value_nan',\n",
       "       'gender_F', 'gender_M', 'gender_unspecified', 'gender_nan',\n",
       "       'device_type_Feature Phone', 'device_type_Smartphone',\n",
       "       'device_type_unspecified', 'device_type_nan',\n",
       "       'device_manufacturer_apple', 'device_manufacturer_infinix',\n",
       "       'device_manufacturer_itel', 'device_manufacturer_nokia',\n",
       "       'device_manufacturer_others', 'device_manufacturer_samsung',\n",
       "       'device_manufacturer_tecno', 'device_manufacturer_nan'],\n",
       "      dtype='object')"
      ]
     },
     "execution_count": 13,
     "metadata": {},
     "output_type": "execute_result"
    }
   ],
   "source": [
    "X.columns"
   ]
  },
  {
   "cell_type": "code",
   "execution_count": 10,
   "metadata": {},
   "outputs": [],
   "source": [
    "from sklearn.model_selection import train_test_split\n",
    "# split in train and test sets\n",
    "X_train, X_test, y_train, y_test = train_test_split(X, y, test_size=0.3, random_state=42)"
   ]
  },
  {
   "cell_type": "code",
   "execution_count": 11,
   "metadata": {},
   "outputs": [
    {
     "name": "stdout",
     "output_type": "stream",
     "text": [
      "Precision: 0.763\n",
      "Recall: 0.173\n"
     ]
    },
    {
     "data": {
      "image/png": "[encoded data removed]",
      "text/plain": [
       "<Figure size 432x288 with 2 Axes>"
      ]
     },
     "metadata": {},
     "output_type": "display_data"
    }
   ],
   "source": [
    "from sklearn.ensemble import RandomForestClassifier\n",
    "from sklearn.metrics import confusion_matrix,recall_score,precision_score\n",
    "\n",
    "rf = RandomForestClassifier(random_state=43)      \n",
    "rf = rf.fit(X_train,y_train)\n",
    "\n",
    "\n",
    "cm = confusion_matrix(y_test,rf.predict(X_test))\n",
    "sns.heatmap(cm,annot=True,fmt=\"d\")\n",
    "\n",
    "print(\"Precision: %.3f\" % precision_score(y_test, rf.predict(X_test)))\n",
    "print(\"Recall: %.3f\" % recall_score(y_test, rf.predict(X_test)))"
   ]
  },
  {
   "cell_type": "code",
   "execution_count": 14,
   "metadata": {},
   "outputs": [],
   "source": [
    "# saving the model\n",
    "import pickle\n",
    "with open('model/model.pkl','wb') as file:\n",
    "    pickle.dump(rf, file)"
   ]
  },
  {
   "cell_type": "code",
   "execution_count": 15,
   "metadata": {},
   "outputs": [],
   "source": [
    "# saving the columns\n",
    "model_columns = X.columns\n",
    "with open('model/model_columns.pkl','wb') as file:\n",
    "    pickle.dump(model_columns, file)"
   ]
  }
 ],
 "metadata": {
  "kernelspec": {
   "display_name": "Python 3",
   "language": "python",
   "name": "python3"
  },
  "language_info": {
   "codemirror_mode": {
    "name": "ipython",
    "version": 3
   },
   "file_extension": ".py",
   "mimetype": "text/x-python",
   "name": "python",
   "nbconvert_exporter": "python",
   "pygments_lexer": "ipython3",
   "version": "3.6.5"
  }
 },
 "nbformat": 4,
 "nbformat_minor": 2
}
